{
 "cells": [
  {
   "cell_type": "code",
   "execution_count": null,
   "id": "e02c719b",
   "metadata": {},
   "outputs": [],
   "source": [
    "# fifth order correct WENO-Z reconstruction (from https://doi.org/10.1016/j.jcp.2007.11.038)\n",
    "# given five cell averages v0 .. v4 (left to right),\n",
    "# returns estimate from the left at interface b/w v2 and v3\n",
    "# (one version enough - reverse order gives estimates from the right)\n",
    "def weno5(v0, v1, v2, v3, v4):\n",
    "    #3rd order estimates from smaller stencils (of size 3)\n",
    "    p0 = v2/3 + 5*v3/6 - v4/6\n",
    "    p1 = -v1/6 + 5*v2/6 + v3/3\n",
    "    p2 = v0/3 - 7*v1/6 + 11*v2/6\n",
    "    #smoothness indicators (to handle shocks):\n",
    "    b0 = (13/12)*(v2 - 2*v3 + v4)**2 + (1/4)*(3*v2 - 4*v3 + v4)**2\n",
    "    b1 = (13/12)*(v1 - 2*v2 + v3)**2 + (1/4)*(v1 - v3)**2\n",
    "    b2 = (13/12)*(v0 - 2*v1 + v2)**2 + (1/4)*(v0 - 4*v1 + 3*v2)**2\n",
    "    eps = 1e-7\n",
    "    #weno-z improvements for extrema:\n",
    "    tau = np.abs(b0 - b2)\n",
    "    b0_z = (b0 + eps)/(b0 + tau + eps)\n",
    "    b1_z = (b1 + eps)/(b1 + tau + eps)\n",
    "    b2_z = (b2 + eps)/(b2 + tau + eps)\n",
    "    #weights to combine smaller stencil ests:\n",
    "    a0 = (3/10)*(b0_z)**(-2)\n",
    "    a1 = (6/10)*(b1_z)**(-2)\n",
    "    a2 = (1/10)*(b2_z)**(-2)\n",
    "    return (a0*p0 + a1*p1 + a2*p2)/(a0 + a1 + a2)\n",
    "\n",
    "# third order correct WENO\n",
    "# takes three cell avgs v0 .. v2\n",
    "# returns est from the left at interface b/w v1 and v2\n",
    "def weno3(v0,v1,v2):\n",
    "    #2nd order estimates (from size 2 stencils)\n",
    "    p0 = 0.5*(v1 + v2)\n",
    "    p1 = 1.5*v1 - 0.5*v0\n",
    "    #smoothness indicators:\n",
    "    b0 = (v2 - v1)**2\n",
    "    b1 = (v1 - v0)**2\n",
    "    eps = 1e-7\n",
    "    #weights to combine smaller stencil ests:\n",
    "    a0 = 1/((eps + b0[i])**2)\n",
    "    a1 = 0.5/((eps + b1[i])**2)\n",
    "    return (a0*p0 + a1*p1)/(a0 + a1)"
   ]
  }
 ],
 "metadata": {
  "kernelspec": {
   "display_name": "Python 3 (ipykernel)",
   "language": "python",
   "name": "python3"
  },
  "language_info": {
   "codemirror_mode": {
    "name": "ipython",
    "version": 3
   },
   "file_extension": ".py",
   "mimetype": "text/x-python",
   "name": "python",
   "nbconvert_exporter": "python",
   "pygments_lexer": "ipython3",
   "version": "3.10.9"
  }
 },
 "nbformat": 4,
 "nbformat_minor": 5
}
